{
 "cells": [
  {
   "cell_type": "code",
   "execution_count": 27,
   "metadata": {},
   "outputs": [
    {
     "name": "stdout",
     "output_type": "stream",
     "text": [
      "insert name here : manuelita calva hpta\n",
      "insert grade of the first test : 5\n",
      "insert grade of the second test : 5\n",
      "insert grade of the third test : 5\n",
      "insert the ammount of absences : 4\n",
      "your average is :  5.0\n",
      "you pass academically, congratulations!\n"
     ]
    }
   ],
   "source": [
    "name_stu=input(\"insert name here : \")\n",
    "grade_test_1 = float(input(\"insert grade of the first test : \"))\n",
    "grade_test_2 = float(input(\"insert grade of the second test : \"))\n",
    "grade_test_3 = float(input(\"insert grade of the third test : \"))\n",
    "abs_stu = int(input(\"insert the ammount of absences : \"))\n",
    "porc_1 = grade_test_1 * 0.35\n",
    "porc_2 = grade_test_2 * 0.35\n",
    "porc_3 = grade_test_3 * 0.30\n",
    "average = (grade_test_1 + grade_test_2 + grade_test_3)/3\n",
    "print(\"your average is : \", average)\n",
    "if average >= 3 and abs_stu < 12 :\n",
    "    print (\"you pass academically, congratulations!\")\n",
    "if average < 3 and abs_stu < 12 :\n",
    "    print (\"you fail academically, keep it up!\")\n",
    "if abs_stu > 12 : \n",
    "    print (\"you fail for absences\")\n",
    "if average < 3 and abs_stu >12 : \n",
    "    print (\"you fail for absences and academically\")"
   ]
  },
  {
   "cell_type": "code",
   "execution_count": null,
   "metadata": {},
   "outputs": [],
   "source": []
  }
 ],
 "metadata": {
  "kernelspec": {
   "display_name": "Python 3",
   "language": "python",
   "name": "python3"
  },
  "language_info": {
   "codemirror_mode": {
    "name": "ipython",
    "version": 3
   },
   "file_extension": ".py",
   "mimetype": "text/x-python",
   "name": "python",
   "nbconvert_exporter": "python",
   "pygments_lexer": "ipython3",
   "version": "3.8.5"
  }
 },
 "nbformat": 4,
 "nbformat_minor": 4
}
