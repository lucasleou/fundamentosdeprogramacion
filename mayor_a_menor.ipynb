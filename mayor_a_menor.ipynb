{
 "cells": [
  {
   "cell_type": "code",
   "execution_count": 1,
   "metadata": {},
   "outputs": [
    {
     "name": "stdout",
     "output_type": "stream",
     "text": [
      "ingrese 3 numeros enteros diferenetes\n",
      "elija 1 si lo quiere de mayor a menor y 2 si lo quiere de menor a mayor2\n",
      "ingrese el numero a3\n",
      "ingrese el numero b2\n",
      "ingrese el numero c1\n",
      "1 2 3\n"
     ]
    }
   ],
   "source": [
    "print(\"ingrese 3 numeros enteros diferenetes\")\n",
    "e = int(input(\"elija 1 si lo quiere de mayor a menor y 2 si lo quiere de menor a mayor\"))\n",
    "a = int(input(\"ingrese el numero a\"))\n",
    "b = int(input(\"ingrese el numero b\"))\n",
    "c = int(input(\"ingrese el numero c\"))\n",
    "\n",
    "if (e == 1):    \n",
    "    if (a > b):\n",
    "        if (a > c):\n",
    "            if(b > c):\n",
    "                print(a, b, c)\n",
    "            else:\n",
    "                print(a, c, b)\n",
    "    if (c > a):\n",
    "        if (c > b):\n",
    "            if(b > a):\n",
    "                print(c, b, a)\n",
    "            else:\n",
    "                print(c, a, b)\n",
    "    if (b > a):\n",
    "        if (b > c):\n",
    "            if(a > c):\n",
    "                print(b, a, c)\n",
    "            else:\n",
    "                print(b, c, a)\n",
    "\n",
    "\n",
    "if (e == 2):\n",
    "    if (a < b):\n",
    "        if (a < c):\n",
    "            if(b < c):\n",
    "                print(a, b, c)\n",
    "            else:\n",
    "                print(a, c, b)\n",
    "    if (c < a):\n",
    "        if (c < b):\n",
    "            if(b < a):\n",
    "                print(c, b, a)\n",
    "            else:\n",
    "                print(c, a, b)\n",
    "    if (b < a):\n",
    "        if (b < c):\n",
    "            if(a < c):\n",
    "                print(b, a, c)\n",
    "            else:\n",
    "                print(b, c, a)\n",
    "\n",
    "if (a == b):\n",
    "    print(\"b y a son iguales\")\n",
    "    if (a == c):\n",
    "        print(\"a y c son iguales\")\n",
    "        if(b == c):\n",
    "            print(\" b y c con iguales\")\n",
    "            if(a == b == c):\n",
    "                print(\"todos son iguales\")"
   ]
  },
  {
   "cell_type": "code",
   "execution_count": null,
   "metadata": {},
   "outputs": [],
   "source": []
  }
 ],
 "metadata": {
  "kernelspec": {
   "display_name": "Python 3",
   "language": "python",
   "name": "python3"
  },
  "language_info": {
   "codemirror_mode": {
    "name": "ipython",
    "version": 3
   },
   "file_extension": ".py",
   "mimetype": "text/x-python",
   "name": "python",
   "nbconvert_exporter": "python",
   "pygments_lexer": "ipython3",
   "version": "3.8.5"
  }
 },
 "nbformat": 4,
 "nbformat_minor": 4
}
