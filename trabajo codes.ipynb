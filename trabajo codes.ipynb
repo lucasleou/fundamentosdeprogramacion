{
 "cells": [
  {
   "cell_type": "code",
   "execution_count": 22,
   "metadata": {},
   "outputs": [
    {
     "name": "stdout",
     "output_type": "stream",
     "text": [
      "ingrese el valor neto de la compra : 5000\n",
      "El total a pagar con iva es :  5950.0\n",
      "El total a pagar con descuento es : 5652.5\n"
     ]
    }
   ],
   "source": [
    "des_ofrt = float (0.05) \n",
    "val_compra = int(input(\"ingrese el valor neto de la compra : \"))\n",
    "iva_por = float (0.19)\n",
    "totl_iva = iva_por * val_compra\n",
    "totl_pag = totl_iva + val_compra\n",
    "totl_des = totl_pag * des_ofrt\n",
    "totl_des_pr = totl_pag - totl_des\n",
    "print (\"El total a pagar con iva es : \", totl_pag)\n",
    "print (\"El total a pagar con descuento es :\",totl_des_pr)"
   ]
  },
  {
   "cell_type": "code",
   "execution_count": 26,
   "metadata": {
    "scrolled": true
   },
   "outputs": [
    {
     "name": "stdout",
     "output_type": "stream",
     "text": [
      "Ingrese el radio del circulo : 22222222222\n",
      "el area del circulo :  1481481481451851851852\n",
      "la longitud de la circuferencia es 133333333332\n"
     ]
    }
   ],
   "source": [
    "rad = int(input(\"Ingrese el radio del circulo : \"))\n",
    "pi = int(3.14)\n",
    "area_cir = pi * rad**2\n",
    "long_cir = 2 * pi * rad\n",
    "print(\"el area del circulo : \",area_cir)\n",
    "print(\"la longitud de la circuferencia es\",long_cir)"
   ]
  },
  {
   "cell_type": "code",
   "execution_count": 36,
   "metadata": {},
   "outputs": [
    {
     "name": "stdout",
     "output_type": "stream",
     "text": [
      "ingrese la altura en cm : 200\n",
      "ingrese el paso en Kg : 100\n",
      "su IMC vasado en su peso y altura es :  25.0\n"
     ]
    }
   ],
   "source": [
    "val_altura = int(input(\"ingrese la altura en cm : \"))\n",
    "val_peso = float(input(\"ingrese el paso en Kg : \"))\n",
    "IMC = val_peso/(val_altura * val_altura)\n",
    "IMC_real = IMC * 10000\n",
    "print(\"su IMC vasado en su peso y altura es : \", IMC_real)"
   ]
  },
  {
   "cell_type": "code",
   "execution_count": 13,
   "metadata": {},
   "outputs": [
    {
     "name": "stdout",
     "output_type": "stream",
     "text": [
      "insert the distance in km : 110\n",
      "insert the time in hrs : 3.5\n",
      "the speed that your need to is :  31.428571428571427\n"
     ]
    }
   ],
   "source": [
    "var_dist = float(input(\"insert the distance in km : \"))\n",
    "var_time = float(input(\"insert the time in hrs : \"))\n",
    "var_speed = var_dist / var_time\n",
    "print(\"the speed that your need to is : \", var_speed)\n"
   ]
  },
  {
   "cell_type": "code",
   "execution_count": 47,
   "metadata": {},
   "outputs": [
    {
     "name": "stdout",
     "output_type": "stream",
     "text": [
      "insert the tempeature in degrees f : 100\n",
      "the tempeature un kelvini is :  310.77777777777777\n"
     ]
    }
   ],
   "source": [
    "var_temp = float(input(\"insert the tempeature in degrees f : \"))\n",
    "var_conver = (var_temp - 32) * 5/9 + 273\n",
    "print(\"the tempeature un kelvini is : \",var_conver)"
   ]
  },
  {
   "cell_type": "code",
   "execution_count": 52,
   "metadata": {},
   "outputs": [
    {
     "name": "stdout",
     "output_type": "stream",
     "text": [
      "insert the base of the rectangle6\n",
      "insert the high of the rectangle7\n",
      "the area of the rectangle is :  21.0\n",
      "the perimeter if the rectangle is :  26\n"
     ]
    }
   ],
   "source": [
    "var_base = int(input(\"insert the base of the rectangle\"))\n",
    "var_high = int(input(\"insert the high of the rectangle\"))\n",
    "var_area = (var_base * var_high)/2\n",
    "var_per = 2 * (var_base + var_high)\n",
    "print(\"the area of the rectangle is : \",var_area)\n",
    "print(\"the perimeter if the rectangle is : \",var_per)"
   ]
  },
  {
   "cell_type": "code",
   "execution_count": 55,
   "metadata": {},
   "outputs": [
    {
     "name": "stdout",
     "output_type": "stream",
     "text": [
      "insert your name : chori contreras\n",
      "insert the worked hours : 40\n",
      "insert the price of your worked hours : 10\n",
      "your salary of the week is :  289.68\n"
     ]
    }
   ],
   "source": [
    "var_name = input(\"insert your name : \")\n",
    "var_hrs = float(input(\"insert the worked hours : \"))\n",
    "var_price = int(input(\"insert the price of your worked hours : \"))\n",
    "var_totl_pay = var_hrs * var_price\n",
    "var_desc = var_totl_pay * 0.29\n",
    "var_desc_totl = var_totl_pay - var_desc\n",
    "var_rai = var_desc_totl * 0.02\n",
    "var_rai_totl = var_rai + var_desc_totl \n",
    "print(\"your salary of the week is : \",var_rai_totl)"
   ]
  },
  {
   "cell_type": "code",
   "execution_count": 76,
   "metadata": {},
   "outputs": [
    {
     "name": "stdout",
     "output_type": "stream",
     "text": [
      "insert your name : lucas \n",
      "insert the grade of the first test :3\n",
      "insert the grade of the fisrt test :3\n",
      "the grade that you need to get is :  4.5\n",
      "you may have a chance to approve\n"
     ]
    }
   ],
   "source": [
    "val_name = input(\"insert your name : \")\n",
    "not_1 = int(input(\"insert the grade of the first test :\"))\n",
    "not_2 = int(input(\"insert the grade of the fisrt test :\"))\n",
    "suppletory = 10.5 - not_1 - not_2\n",
    "print(\"the grade that you need to get is : \",suppletory)\n",
    "if suppletory >5 : \n",
    "    print(\"you lose the subject\")\n",
    "if suppletory <=5 :\n",
    "    print(\"you may have a chance to approve\")"
   ]
  },
  {
   "cell_type": "code",
   "execution_count": 81,
   "metadata": {},
   "outputs": [
    {
     "name": "stdout",
     "output_type": "stream",
     "text": [
      "insert the job : walls \n",
      "insert the ammount of hours that one worker takes to make the job : 60\n",
      "insert the ammount of workers that you want to reduce time : 5\n",
      "the ammount of workers that you need to make the job in 12hrs is :  5\n"
     ]
    }
   ],
   "source": [
    "val_act = input(\"insert the job : \")\n",
    "val_time = int(input(\"insert the ammount of hours that one worker takes to make the job : \"))\n",
    "val_wrks = int(input(\"insert the ammount of workers that you want to reduce time : \"))\n",
    "k1 = val_time // val_wrks\n",
    "\n",
    "print(f\"the ammount of workers that you need to make the job in {k1}hrs is : \",val_wrks)"
   ]
  },
  {
   "cell_type": "code",
   "execution_count": 2,
   "metadata": {},
   "outputs": [
    {
     "name": "stdout",
     "output_type": "stream",
     "text": [
      "ingrese el primer numero :2\n",
      "ingrese el segundo numero : 3\n",
      "ingrese 1 para sumar 2 para restar 3 para multiplicar 4 para dividir 5 para potencia : 5\n",
      "8\n"
     ]
    }
   ],
   "source": [
    "x =  int(input('ingrese el primer numero :'))\n",
    "y =  int(input('ingrese el segundo numero : '))\n",
    "z =  int(input('ingrese 1 para sumar 2 para restar 3 para multiplicar 4 para dividir 5 para potencia : '))\n",
    "\n",
    "if (z == 1):\n",
    "   r = x + y\n",
    "   print(r)\n",
    "\n",
    "if (z == 2):\n",
    "   r = x - y\n",
    "   print(r)\n",
    "\n",
    "if (z == 3):\n",
    "   r = x * y \n",
    "   print(r)\n",
    "\n",
    "if (z == 4):\n",
    "   r = x / y\n",
    "   print(r)\n",
    "\n",
    "if (z == 5):\n",
    "   r = x ** y\n",
    "   print(r)"
   ]
  },
  {
   "cell_type": "code",
   "execution_count": null,
   "metadata": {},
   "outputs": [],
   "source": []
  }
 ],
 "metadata": {
  "kernelspec": {
   "display_name": "Python 3",
   "language": "python",
   "name": "python3"
  },
  "language_info": {
   "codemirror_mode": {
    "name": "ipython",
    "version": 3
   },
   "file_extension": ".py",
   "mimetype": "text/x-python",
   "name": "python",
   "nbconvert_exporter": "python",
   "pygments_lexer": "ipython3",
   "version": "3.8.5"
  }
 },
 "nbformat": 4,
 "nbformat_minor": 4
}
